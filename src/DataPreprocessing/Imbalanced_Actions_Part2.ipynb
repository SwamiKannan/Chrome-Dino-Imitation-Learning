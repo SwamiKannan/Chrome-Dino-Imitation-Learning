{
 "cells": [
  {
   "cell_type": "code",
   "execution_count": 1,
   "id": "ef1c33d8",
   "metadata": {},
   "outputs": [],
   "source": [
    "import numpy as np\n",
    "import pickle"
   ]
  },
  {
   "cell_type": "code",
   "execution_count": 2,
   "id": "b81441a7",
   "metadata": {},
   "outputs": [],
   "source": [
    "with open('D://states.pkl','rb') as f:\n",
    "    states=pickle.load(f)"
   ]
  },
  {
   "cell_type": "code",
   "execution_count": 3,
   "id": "c5262be8",
   "metadata": {},
   "outputs": [],
   "source": [
    "# ex=np.array(states[np.random.randint(0,139361)])"
   ]
  },
  {
   "cell_type": "code",
   "execution_count": 4,
   "id": "a67fb21e",
   "metadata": {},
   "outputs": [],
   "source": [
    "# print(len(np.where(ex==0)))\n",
    "# print(len(np.where(ex==1)))\n",
    "# del ex"
   ]
  },
  {
   "cell_type": "code",
   "execution_count": 5,
   "id": "79bdf0a4",
   "metadata": {},
   "outputs": [
    {
     "data": {
      "text/plain": [
       "139347"
      ]
     },
     "execution_count": 5,
     "metadata": {},
     "output_type": "execute_result"
    }
   ],
   "source": [
    "len(states)"
   ]
  },
  {
   "cell_type": "code",
   "execution_count": 6,
   "id": "0a5ec2c2",
   "metadata": {},
   "outputs": [
    {
     "data": {
      "text/plain": [
       "189060"
      ]
     },
     "execution_count": 6,
     "metadata": {},
     "output_type": "execute_result"
    }
   ],
   "source": [
    "len(states[0])"
   ]
  },
  {
   "cell_type": "code",
   "execution_count": 7,
   "id": "23392400",
   "metadata": {},
   "outputs": [],
   "source": [
    "# vals=np.in1d(np.array(ex), [0,1])"
   ]
  },
  {
   "cell_type": "code",
   "execution_count": 8,
   "id": "d74bb9de",
   "metadata": {},
   "outputs": [],
   "source": [
    "# print(np.sum(vals))"
   ]
  },
  {
   "cell_type": "code",
   "execution_count": 9,
   "id": "f0b98c6e",
   "metadata": {},
   "outputs": [],
   "source": [
    "# del vals"
   ]
  },
  {
   "cell_type": "code",
   "execution_count": 10,
   "id": "390e09ba",
   "metadata": {},
   "outputs": [],
   "source": [
    "states = [np.array(state).astype(bool) for state in states]"
   ]
  },
  {
   "cell_type": "code",
   "execution_count": 12,
   "id": "126726aa",
   "metadata": {},
   "outputs": [],
   "source": [
    "with open('D://states_bool.pkl','wb') as f:\n",
    "    y= pickle.dump(states,f)"
   ]
  },
  {
   "cell_type": "code",
   "execution_count": 13,
   "id": "1e5dcffe",
   "metadata": {},
   "outputs": [],
   "source": [
    "del states"
   ]
  },
  {
   "cell_type": "code",
   "execution_count": null,
   "id": "a77b834d",
   "metadata": {},
   "outputs": [],
   "source": []
  }
 ],
 "metadata": {
  "kernelspec": {
   "display_name": "Python 3 (ipykernel)",
   "language": "python",
   "name": "python3"
  },
  "language_info": {
   "codemirror_mode": {
    "name": "ipython",
    "version": 3
   },
   "file_extension": ".py",
   "mimetype": "text/x-python",
   "name": "python",
   "nbconvert_exporter": "python",
   "pygments_lexer": "ipython3",
   "version": "3.8.16"
  }
 },
 "nbformat": 4,
 "nbformat_minor": 5
}
