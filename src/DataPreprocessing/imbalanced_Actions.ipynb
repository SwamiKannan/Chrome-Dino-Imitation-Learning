{
 "cells": [
  {
   "cell_type": "code",
   "execution_count": 1,
   "id": "312fbee6",
   "metadata": {},
   "outputs": [],
   "source": [
    "# !pip install imbalanced-learn"
   ]
  },
  {
   "cell_type": "code",
   "execution_count": 2,
   "id": "02e2be05",
   "metadata": {},
   "outputs": [],
   "source": [
    "import numpy as np\n",
    "import pickle\n",
    "import paths\n",
    "import os\n",
    "import torch"
   ]
  },
  {
   "cell_type": "code",
   "execution_count": 3,
   "id": "41eebbb8",
   "metadata": {},
   "outputs": [
    {
     "name": "stdout",
     "output_type": "stream",
     "text": [
      "..\\data\n",
      "..\\models\n",
      "..\\logs\n",
      "..\\data\\raw_data\n",
      "..\\data\\processed_data\n",
      "..\\data\\raw_data\\states\n",
      "..\\data\\raw_data\\actions\n"
     ]
    }
   ],
   "source": [
    "PATHS=paths.create_paths()\n",
    "print('\\n'.join(PATHS))"
   ]
  },
  {
   "cell_type": "code",
   "execution_count": 4,
   "id": "35d2ee11",
   "metadata": {},
   "outputs": [],
   "source": [
    "## Split the states and actions based on actions (This is to )"
   ]
  },
  {
   "cell_type": "code",
   "execution_count": 5,
   "id": "09b6bcdd",
   "metadata": {},
   "outputs": [],
   "source": [
    "import imblearn"
   ]
  },
  {
   "cell_type": "code",
   "execution_count": 6,
   "id": "de1a90dd",
   "metadata": {},
   "outputs": [],
   "source": [
    "states_space=[]\n",
    "actions_space=[]"
   ]
  },
  {
   "cell_type": "code",
   "execution_count": 7,
   "id": "ca111721",
   "metadata": {},
   "outputs": [
    {
     "name": "stdout",
     "output_type": "stream",
     "text": [
      "55815\n"
     ]
    }
   ],
   "source": [
    "sum=0\n",
    "for state, action in zip(os.listdir(PATHS[-2]),os.listdir(PATHS[-1])):\n",
    "    with open(os.path.join(PATHS[-2],state),'rb') as f:\n",
    "        state_sample=pickle.load(f)\n",
    "    with open(os.path.join(PATHS[-1],action),'rb') as f:\n",
    "        action_sample=pickle.load(f)\n",
    "    assert len(state_sample[:-5])==len(action_sample[1:-4])\n",
    "    sum+=len(state_sample[:-5])\n",
    "    for state_instance, action_instance in zip(state_sample[:-5], action_sample[1:-4]):\n",
    "        states_space.append(state_instance)\n",
    "        actions_space.append(action_instance)\n",
    "    del state_sample, action_sample\n",
    "print(sum)            "
   ]
  },
  {
   "cell_type": "code",
   "execution_count": 8,
   "id": "0a6e67f3",
   "metadata": {},
   "outputs": [],
   "source": [
    "assert len(states_space)==len(actions_space)"
   ]
  },
  {
   "cell_type": "markdown",
   "id": "9c5d6c93",
   "metadata": {},
   "source": [
    "Original sum: 55932"
   ]
  },
  {
   "cell_type": "code",
   "execution_count": 9,
   "id": "dd90c580",
   "metadata": {},
   "outputs": [
    {
     "data": {
      "text/plain": [
       "torch.Size([4, 137, 345])"
      ]
     },
     "execution_count": 9,
     "metadata": {},
     "output_type": "execute_result"
    }
   ],
   "source": [
    "state_shape=states_space[0].shape\n",
    "state_shape"
   ]
  },
  {
   "cell_type": "code",
   "execution_count": 10,
   "id": "64df2110",
   "metadata": {},
   "outputs": [],
   "source": [
    "states_shape_reshape=[x.reshape(-1).numpy().astype(np.byte) for x in states_space]"
   ]
  },
  {
   "cell_type": "code",
   "execution_count": 11,
   "id": "d4c85792",
   "metadata": {},
   "outputs": [
    {
     "name": "stdout",
     "output_type": "stream",
     "text": [
      "9.827673342078924\n"
     ]
    }
   ],
   "source": [
    "sum_bytes=0\n",
    "for item in states_shape_reshape:\n",
    "    sum_bytes+=item.nbytes\n",
    "print(sum_bytes/(1024**3))\n",
    "del sum_bytes"
   ]
  },
  {
   "cell_type": "code",
   "execution_count": 12,
   "id": "c10355dd",
   "metadata": {},
   "outputs": [
    {
     "data": {
      "text/plain": [
       "10552383900"
      ]
     },
     "execution_count": 12,
     "metadata": {},
     "output_type": "execute_result"
    }
   ],
   "source": [
    "np.array(states_shape_reshape).nbytes"
   ]
  },
  {
   "cell_type": "code",
   "execution_count": 13,
   "id": "a7680656",
   "metadata": {},
   "outputs": [],
   "source": [
    "del states_space"
   ]
  },
  {
   "cell_type": "code",
   "execution_count": 14,
   "id": "a38f9b18",
   "metadata": {},
   "outputs": [],
   "source": [
    "for state in states_shape_reshape:\n",
    "    if len(state.shape)>2:\n",
    "        print(len(state.shape))\n",
    "for action in actions_space:\n",
    "    if type(action) is not int:\n",
    "        print(type(action))"
   ]
  },
  {
   "cell_type": "code",
   "execution_count": 15,
   "id": "90334724",
   "metadata": {},
   "outputs": [],
   "source": [
    "oversample=imblearn.over_sampling.SMOTE()"
   ]
  },
  {
   "cell_type": "code",
   "execution_count": 16,
   "id": "e9215ef5",
   "metadata": {},
   "outputs": [
    {
     "name": "stdout",
     "output_type": "stream",
     "text": [
      "CPU times: total: 45min 9s\n",
      "Wall time: 48min 58s\n"
     ]
    }
   ],
   "source": [
    "%%time\n",
    "states_shape_reshape,actions_space=oversample.fit_resample(states_shape_reshape,actions_space)"
   ]
  },
  {
   "cell_type": "code",
   "execution_count": 18,
   "id": "f0e5997f",
   "metadata": {},
   "outputs": [],
   "source": [
    "with open('D://states.pkl','wb') as f:\n",
    "    pickle.dump(states_shape_reshape,f)"
   ]
  },
  {
   "cell_type": "code",
   "execution_count": 19,
   "id": "53d91a4e",
   "metadata": {},
   "outputs": [],
   "source": [
    "with open('D://actions.pkl','wb') as f:\n",
    "    pickle.dump(actions_space,f)"
   ]
  },
  {
   "cell_type": "code",
   "execution_count": 20,
   "id": "6333d393",
   "metadata": {},
   "outputs": [
    {
     "data": {
      "text/plain": [
       "139347"
      ]
     },
     "execution_count": 20,
     "metadata": {},
     "output_type": "execute_result"
    }
   ],
   "source": [
    "len(states_shape_reshape)"
   ]
  },
  {
   "cell_type": "code",
   "execution_count": null,
   "id": "1b232ecf",
   "metadata": {},
   "outputs": [],
   "source": [
    "np.sum(np.array(states_shape_reshape))"
   ]
  },
  {
   "cell_type": "markdown",
   "id": "7f65afbc",
   "metadata": {},
   "source": [
    "#### MANUAL AUGMENTATION"
   ]
  },
  {
   "cell_type": "code",
   "execution_count": null,
   "id": "530f49a7",
   "metadata": {},
   "outputs": [],
   "source": [
    "# sum=0\n",
    "# states_0, states_1, states_2=[],[],[]\n",
    "# actions_0, actions_1, actions_2=[],[],[]\n",
    "# for state, action in zip(os.listdir(PATHS[-2]),os.listdir(PATHS[-1])):\n",
    "#     with open(os.path.join(PATHS[-2],state),'rb') as f:\n",
    "#         state_sample=pickle.load(f)\n",
    "#     with open(os.path.join(PATHS[-1],action),'rb') as f:\n",
    "#         action_sample=pickle.load(f)\n",
    "#     assert len(state_sample)==len(action_sample)\n",
    "#     sum+=len(state_sample)\n",
    "#     for state_instance, action_instance in zip(state_sample, action_sample):\n",
    "#         if action_instance==0:\n",
    "#             states_0.append(state_instance)\n",
    "#             actions_0.append(action_instance)\n",
    "#         elif action_instance==1:\n",
    "#             states_1.append(state_instance)\n",
    "#             actions_1.append(action_instance)\n",
    "#         elif action_instance==2:\n",
    "#             states_2.append(state_instance)\n",
    "#             actions_2.append(action_instance)\n",
    "#         else:\n",
    "#             print('Error in file:',action)\n",
    "            "
   ]
  },
  {
   "cell_type": "code",
   "execution_count": null,
   "id": "a11db00a",
   "metadata": {},
   "outputs": [],
   "source": [
    "sum"
   ]
  },
  {
   "cell_type": "code",
   "execution_count": null,
   "id": "daac2056",
   "metadata": {},
   "outputs": [],
   "source": [
    "assert len(states_0)==len(actions_0)\n",
    "assert len(states_1)==len(actions_1)\n",
    "assert len(states_2)==len(actions_2)\n",
    "print(len(actions_0))\n",
    "print(len(actions_1))\n",
    "print(len(actions_2))"
   ]
  },
  {
   "cell_type": "code",
   "execution_count": null,
   "id": "0aef07ff",
   "metadata": {},
   "outputs": [],
   "source": [
    "s_0=torch.stack(states_0,dim=0)\n",
    "print(s_0.shape)\n",
    "s_1=torch.stack(states_1,dim=0)\n",
    "print(s_1.shape)\n",
    "s_2=torch.stack(states_2,dim=0)\n",
    "print(s_2.shape)"
   ]
  },
  {
   "cell_type": "code",
   "execution_count": null,
   "id": "50757487",
   "metadata": {},
   "outputs": [],
   "source": [
    "x=torch.vstack(states_1)\n",
    "print(x.shape)"
   ]
  },
  {
   "cell_type": "code",
   "execution_count": null,
   "id": "175b7e88",
   "metadata": {},
   "outputs": [],
   "source": [
    "import torch"
   ]
  },
  {
   "cell_type": "code",
   "execution_count": null,
   "id": "e371bfab",
   "metadata": {},
   "outputs": [],
   "source": [
    "s_1_1=torch.repeat_interleave(s_1,round(s_0.shape[0]/s_1.shape[0]),dim=0)"
   ]
  },
  {
   "cell_type": "code",
   "execution_count": null,
   "id": "5e8bcef0",
   "metadata": {},
   "outputs": [],
   "source": [
    "s_2_1=torch.repeat_interleave(s_2,round(s_0.shape[0]/s_2.shape[0]),dim=0)"
   ]
  },
  {
   "cell_type": "code",
   "execution_count": null,
   "id": "466d7e1e",
   "metadata": {},
   "outputs": [],
   "source": [
    "actions_1[0]"
   ]
  },
  {
   "cell_type": "code",
   "execution_count": null,
   "id": "4f36a56a",
   "metadata": {},
   "outputs": [],
   "source": [
    "a_1_1=torch.repeat_interleave(torch.tensor(actions_1,dtype=torch.bool),round(s_0.shape[0]/s_1.shape[0]),dim=0)\n",
    "a_2_1=torch.repeat_interleave(torch.tensor(actions_2,dtype=torch.bool),round(s_0.shape[0]/s_2.shape[0]),dim=0)"
   ]
  },
  {
   "cell_type": "code",
   "execution_count": null,
   "id": "9fb5065c",
   "metadata": {},
   "outputs": [],
   "source": [
    "print(s_0.shape)\n",
    "print(s_1_1.shape)\n",
    "print(s_2_1.shape)"
   ]
  },
  {
   "cell_type": "code",
   "execution_count": null,
   "id": "6f97626c",
   "metadata": {},
   "outputs": [],
   "source": [
    "a_0=torch.tensor(actions_0,dtype=torch.bool).reshape(-1,1)\n",
    "print(a_0.shape)\n",
    "print(a_1_1.shape)\n",
    "print(a_2_1.shape)"
   ]
  },
  {
   "cell_type": "code",
   "execution_count": null,
   "id": "9c6a39fb",
   "metadata": {},
   "outputs": [],
   "source": [
    "states=torch.vstack((s_0,s_1_1,s_2_1))"
   ]
  },
  {
   "cell_type": "code",
   "execution_count": null,
   "id": "d5f3540f",
   "metadata": {},
   "outputs": [],
   "source": [
    "states.shape"
   ]
  },
  {
   "cell_type": "code",
   "execution_count": null,
   "id": "a8826eb0",
   "metadata": {},
   "outputs": [],
   "source": [
    "a_1_1=a_1_1.reshape(-1,1)\n",
    "a_2_1=a_2_1.reshape(-1,1)"
   ]
  },
  {
   "cell_type": "code",
   "execution_count": null,
   "id": "c7931827",
   "metadata": {},
   "outputs": [],
   "source": [
    "actions=torch.vstack((a_0,a_1_1,a_2_1))\n",
    "actions.shape"
   ]
  },
  {
   "cell_type": "code",
   "execution_count": null,
   "id": "3b26e400",
   "metadata": {},
   "outputs": [],
   "source": [
    "torch.save(states,os.path.join(PATHS[4],'states','states.pt'))"
   ]
  },
  {
   "cell_type": "code",
   "execution_count": null,
   "id": "0d24f206",
   "metadata": {},
   "outputs": [],
   "source": [
    "torch.save(actions,os.path.join(PATHS[4],'actions','actions.pt'))"
   ]
  },
  {
   "cell_type": "code",
   "execution_count": null,
   "id": "52ac2d58",
   "metadata": {},
   "outputs": [],
   "source": []
  }
 ],
 "metadata": {
  "kernelspec": {
   "display_name": "Python 3 (ipykernel)",
   "language": "python",
   "name": "python3"
  },
  "language_info": {
   "codemirror_mode": {
    "name": "ipython",
    "version": 3
   },
   "file_extension": ".py",
   "mimetype": "text/x-python",
   "name": "python",
   "nbconvert_exporter": "python",
   "pygments_lexer": "ipython3",
   "version": "3.8.16"
  }
 },
 "nbformat": 4,
 "nbformat_minor": 5
}
