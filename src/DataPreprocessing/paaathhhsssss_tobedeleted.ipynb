{
 "cells": [
  {
   "cell_type": "code",
   "execution_count": 1,
   "id": "82d71317",
   "metadata": {},
   "outputs": [
    {
     "data": {
      "text/plain": [
       "'D:\\\\to_do\\\\Projects\\\\dino_ML\\\\CNN_repeat\\\\src\\\\DataPreprocessing'"
      ]
     },
     "execution_count": 1,
     "metadata": {},
     "output_type": "execute_result"
    }
   ],
   "source": [
    "import os\n",
    "os.getcwd()"
   ]
  },
  {
   "cell_type": "code",
   "execution_count": 2,
   "id": "4e883485",
   "metadata": {},
   "outputs": [],
   "source": [
    "import sys"
   ]
  },
  {
   "cell_type": "code",
   "execution_count": 3,
   "id": "0670e7af",
   "metadata": {},
   "outputs": [],
   "source": [
    "sys.path.append(os.path.dirname(os.getcwd()))"
   ]
  },
  {
   "cell_type": "code",
   "execution_count": 4,
   "id": "6a9d0893",
   "metadata": {},
   "outputs": [],
   "source": [
    "from paths import create_paths"
   ]
  },
  {
   "cell_type": "code",
   "execution_count": 5,
   "id": "2be6fe8f",
   "metadata": {},
   "outputs": [],
   "source": [
    "paths=create_paths()"
   ]
  },
  {
   "cell_type": "code",
   "execution_count": 6,
   "id": "459d2980",
   "metadata": {},
   "outputs": [
    {
     "data": {
      "text/plain": [
       "('..\\\\data',\n",
       " '..\\\\models',\n",
       " '..\\\\logs',\n",
       " '..\\\\data\\\\raw_data',\n",
       " '..\\\\data\\\\processed_data',\n",
       " '..\\\\data\\\\raw_data\\\\states',\n",
       " '..\\\\data\\\\raw_data\\\\actions')"
      ]
     },
     "execution_count": 6,
     "metadata": {},
     "output_type": "execute_result"
    }
   ],
   "source": [
    "paths"
   ]
  },
  {
   "cell_type": "code",
   "execution_count": null,
   "id": "4366d3b8",
   "metadata": {},
   "outputs": [],
   "source": []
  }
 ],
 "metadata": {
  "kernelspec": {
   "display_name": "Python 3 (ipykernel)",
   "language": "python",
   "name": "python3"
  },
  "language_info": {
   "codemirror_mode": {
    "name": "ipython",
    "version": 3
   },
   "file_extension": ".py",
   "mimetype": "text/x-python",
   "name": "python",
   "nbconvert_exporter": "python",
   "pygments_lexer": "ipython3",
   "version": "3.8.16"
  }
 },
 "nbformat": 4,
 "nbformat_minor": 5
}
